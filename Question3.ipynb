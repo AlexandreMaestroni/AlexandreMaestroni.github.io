{
  "nbformat": 4,
  "nbformat_minor": 0,
  "metadata": {
    "colab": {
      "provenance": [],
      "authorship_tag": "ABX9TyNtN50s4mi3pykYKoxVM5HQ",
      "include_colab_link": true
    },
    "kernelspec": {
      "name": "python3",
      "display_name": "Python 3"
    },
    "language_info": {
      "name": "python"
    }
  },
  "cells": [
    {
      "cell_type": "markdown",
      "metadata": {
        "id": "view-in-github",
        "colab_type": "text"
      },
      "source": [
        "<a href=\"https://colab.research.google.com/github/AlexandreMaestroni/AlexandreMaestroni.github.io/blob/master/Question3.ipynb\" target=\"_parent\"><img src=\"https://colab.research.google.com/assets/colab-badge.svg\" alt=\"Open In Colab\"/></a>"
      ]
    },
    {
      "cell_type": "markdown",
      "source": [
        "In this question we are trying to classify images into real or fakes, I used parts of code found in Kaggle from gpiosenka and deveshupreti. I tried to understand and improve these code."
      ],
      "metadata": {
        "id": "bkFJ3uuo5M9D"
      }
    },
    {
      "cell_type": "code",
      "source": [
        "import pandas as pd\n",
        "import numpy as np\n",
        "import cv2\n",
        "import PIL"
      ],
      "metadata": {
        "id": "v6GM2j2KqbXT"
      },
      "execution_count": 94,
      "outputs": []
    },
    {
      "cell_type": "markdown",
      "source": [
        "Import of the different libraries."
      ],
      "metadata": {
        "id": "ZRCbB6Y95Jxw"
      }
    },
    {
      "cell_type": "code",
      "source": [
        "import zipfile\n",
        "\n",
        "zip_file_path = \"KAGGLE.zip\"\n",
        "\n",
        "with zipfile.ZipFile(zip_file_path, 'r') as zip_ref:\n",
        "    zip_ref.extractall(\"</content/KAGGLE_unziped>\")\n",
        "\n",
        "print(\"Extraction complete.\")\n"
      ],
      "metadata": {
        "colab": {
          "base_uri": "https://localhost:8080/"
        },
        "id": "eV_Qpw97zfGw",
        "outputId": "ed6a76db-4388-41d7-f08a-0756ed148185"
      },
      "execution_count": 97,
      "outputs": [
        {
          "output_type": "stream",
          "name": "stdout",
          "text": [
            "Extraction complete.\n"
          ]
        }
      ]
    },
    {
      "cell_type": "markdown",
      "source": [
        "\n",
        "This code imports the zipfile module, opens a zip file named \"KAGGLE.zip\", extracts its contents to the specified directory, and prints a message indicating the completion of the extraction process."
      ],
      "metadata": {
        "id": "KpgY1nJk6u3p"
      }
    },
    {
      "cell_type": "code",
      "source": [
        "PIL.Image.open('</content/KAGGLE_unziped>/train/FAKE/1099.jpg')"
      ],
      "metadata": {
        "colab": {
          "base_uri": "https://localhost:8080/",
          "height": 49
        },
        "id": "FjRmdlTu8zs6",
        "outputId": "00514b14-a6b2-488b-9ca7-c75af00a8169"
      },
      "execution_count": 98,
      "outputs": [
        {
          "output_type": "execute_result",
          "data": {
            "text/plain": [
              "<PIL.JpegImagePlugin.JpegImageFile image mode=RGB size=32x32 at 0x7F98418B6E00>"
            ],
            "image/png": "[encoded data removed]"
          },
          "metadata": {},
          "execution_count": 98
        }
      ]
    },
    {
      "cell_type": "markdown",
      "source": [
        "This code provide us a fake image."
      ],
      "metadata": {
        "id": "kn-dVOJT7UpG"
      }
    },
    {
      "cell_type": "code",
      "source": [
        "image = cv2.imread('</content/KAGGLE_unziped>/train/FAKE/1099.jpg')\n",
        "image.shape"
      ],
      "metadata": {
        "colab": {
          "base_uri": "https://localhost:8080/"
        },
        "id": "6svKFKkp9fW7",
        "outputId": "b81f52db-e070-4209-8a8d-29e50914ead4"
      },
      "execution_count": 99,
      "outputs": [
        {
          "output_type": "execute_result",
          "data": {
            "text/plain": [
              "(32, 32, 3)"
            ]
          },
          "metadata": {},
          "execution_count": 99
        }
      ]
    },
    {
      "cell_type": "markdown",
      "source": [
        "And its shape to create our own code."
      ],
      "metadata": {
        "id": "g-kuixA68BG5"
      }
    },
    {
      "cell_type": "code",
      "source": [
        "train_path_fake =[]\n",
        "\n",
        "base_1 = '</content/KAGGLE_unziped>/train/FAKE/'\n",
        "\n",
        "for i in range(1000,6000):\n",
        "    a = '{}{}.jpg'.format(base_1, i)\n",
        "    train_path_fake.append(a)\n",
        "\n",
        "for i in range(1000,6000):\n",
        "    for j in range(2,11):\n",
        "        b = '{}{} ({}).jpg'.format(base_1, i, j)\n",
        "        train_path_fake.append(b)\n",
        "len(train_path_fake)"
      ],
      "metadata": {
        "colab": {
          "base_uri": "https://localhost:8080/"
        },
        "id": "JsgMB2va9u8x",
        "outputId": "bffc60d3-07e5-4cda-bf55-7e2b134e6cf0"
      },
      "execution_count": 100,
      "outputs": [
        {
          "output_type": "execute_result",
          "data": {
            "text/plain": [
              "50000"
            ]
          },
          "metadata": {},
          "execution_count": 100
        }
      ]
    },
    {
      "cell_type": "markdown",
      "source": [
        "This code generates a list of file paths for training data, consisting of fake images, by combining the base directory path \"</content/KAGGLE_unziped>/train/FAKE/\" with varying image file names and their corresponding numbers and extensions, resulting in a total of 50,000 file paths."
      ],
      "metadata": {
        "id": "m55EaBgk8WK-"
      }
    },
    {
      "cell_type": "code",
      "source": [
        "df_train_fake = pd.DataFrame(train_path_fake)\n",
        "df_train_fake.columns = ['path']\n",
        "df_train_fake['label'] = 0\n",
        "df_train_fake.head()"
      ],
      "metadata": {
        "colab": {
          "base_uri": "https://localhost:8080/",
          "height": 206
        },
        "id": "nl_1KyKj93hP",
        "outputId": "07fc5c73-e6cd-4f2a-9488-386a6a49c67c"
      },
      "execution_count": 101,
      "outputs": [
        {
          "output_type": "execute_result",
          "data": {
            "text/plain": [
              "                                            path  label\n",
              "0  </content/KAGGLE_unziped>/train/FAKE/1000.jpg      0\n",
              "1  </content/KAGGLE_unziped>/train/FAKE/1001.jpg      0\n",
              "2  </content/KAGGLE_unziped>/train/FAKE/1002.jpg      0\n",
              "3  </content/KAGGLE_unziped>/train/FAKE/1003.jpg      0\n",
              "4  </content/KAGGLE_unziped>/train/FAKE/1004.jpg      0"
            ],
            "text/html": [
              "\n",
              "  <div id=\"df-40bee303-cde5-4bed-9481-6d29d7fc12df\">\n",
              "    <div class=\"colab-df-container\">\n",
              "      <div>\n",
              "<style scoped>\n",
              "    .dataframe tbody tr th:only-of-type {\n",
              "        vertical-align: middle;\n",
              "    }\n",
              "\n",
              "    .dataframe tbody tr th {\n",
              "        vertical-align: top;\n",
              "    }\n",
              "\n",
              "    .dataframe thead th {\n",
              "        text-align: right;\n",
              "    }\n",
              "</style>\n",
              "<table border=\"1\" class=\"dataframe\">\n",
              "  <thead>\n",
              "    <tr style=\"text-align: right;\">\n",
              "      <th></th>\n",
              "      <th>path</th>\n",
              "      <th>label</th>\n",
              "    </tr>\n",
              "  </thead>\n",
              "  <tbody>\n",
              "    <tr>\n",
              "      <th>0</th>\n",
              "      <td>&lt;/content/KAGGLE_unziped&gt;/train/FAKE/1000.jpg</td>\n",
              "      <td>0</td>\n",
              "    </tr>\n",
              "    <tr>\n",
              "      <th>1</th>\n",
              "      <td>&lt;/content/KAGGLE_unziped&gt;/train/FAKE/1001.jpg</td>\n",
              "      <td>0</td>\n",
              "    </tr>\n",
              "    <tr>\n",
              "      <th>2</th>\n",
              "      <td>&lt;/content/KAGGLE_unziped&gt;/train/FAKE/1002.jpg</td>\n",
              "      <td>0</td>\n",
              "    </tr>\n",
              "    <tr>\n",
              "      <th>3</th>\n",
              "      <td>&lt;/content/KAGGLE_unziped&gt;/train/FAKE/1003.jpg</td>\n",
              "      <td>0</td>\n",
              "    </tr>\n",
              "    <tr>\n",
              "      <th>4</th>\n",
              "      <td>&lt;/content/KAGGLE_unziped&gt;/train/FAKE/1004.jpg</td>\n",
              "      <td>0</td>\n",
              "    </tr>\n",
              "  </tbody>\n",
              "</table>\n",
              "</div>\n",
              "      <button class=\"colab-df-convert\" onclick=\"convertToInteractive('df-40bee303-cde5-4bed-9481-6d29d7fc12df')\"\n",
              "              title=\"Convert this dataframe to an interactive table.\"\n",
              "              style=\"display:none;\">\n",
              "        \n",
              "  <svg xmlns=\"http://www.w3.org/2000/svg\" height=\"24px\"viewBox=\"0 0 24 24\"\n",
              "       width=\"24px\">\n",
              "    <path d=\"M0 0h24v24H0V0z\" fill=\"none\"/>\n",
              "    <path d=\"M18.56 5.44l.94 2.06.94-2.06 2.06-.94-2.06-.94-.94-2.06-.94 2.06-2.06.94zm-11 1L8.5 8.5l.94-2.06 2.06-.94-2.06-.94L8.5 2.5l-.94 2.06-2.06.94zm10 10l.94 2.06.94-2.06 2.06-.94-2.06-.94-.94-2.06-.94 2.06-2.06.94z\"/><path d=\"M17.41 7.96l-1.37-1.37c-.4-.4-.92-.59-1.43-.59-.52 0-1.04.2-1.43.59L10.3 9.45l-7.72 7.72c-.78.78-.78 2.05 0 2.83L4 21.41c.39.39.9.59 1.41.59.51 0 1.02-.2 1.41-.59l7.78-7.78 2.81-2.81c.8-.78.8-2.07 0-2.86zM5.41 20L4 18.59l7.72-7.72 1.47 1.35L5.41 20z\"/>\n",
              "  </svg>\n",
              "      </button>\n",
              "      \n",
              "  <style>\n",
              "    .colab-df-container {\n",
              "      display:flex;\n",
              "      flex-wrap:wrap;\n",
              "      gap: 12px;\n",
              "    }\n",
              "\n",
              "    .colab-df-convert {\n",
              "      background-color: #E8F0FE;\n",
              "      border: none;\n",
              "      border-radius: 50%;\n",
              "      cursor: pointer;\n",
              "      display: none;\n",
              "      fill: #1967D2;\n",
              "      height: 32px;\n",
              "      padding: 0 0 0 0;\n",
              "      width: 32px;\n",
              "    }\n",
              "\n",
              "    .colab-df-convert:hover {\n",
              "      background-color: #E2EBFA;\n",
              "      box-shadow: 0px 1px 2px rgba(60, 64, 67, 0.3), 0px 1px 3px 1px rgba(60, 64, 67, 0.15);\n",
              "      fill: #174EA6;\n",
              "    }\n",
              "\n",
              "    [theme=dark] .colab-df-convert {\n",
              "      background-color: #3B4455;\n",
              "      fill: #D2E3FC;\n",
              "    }\n",
              "\n",
              "    [theme=dark] .colab-df-convert:hover {\n",
              "      background-color: #434B5C;\n",
              "      box-shadow: 0px 1px 3px 1px rgba(0, 0, 0, 0.15);\n",
              "      filter: drop-shadow(0px 1px 2px rgba(0, 0, 0, 0.3));\n",
              "      fill: #FFFFFF;\n",
              "    }\n",
              "  </style>\n",
              "\n",
              "      <script>\n",
              "        const buttonEl =\n",
              "          document.querySelector('#df-40bee303-cde5-4bed-9481-6d29d7fc12df button.colab-df-convert');\n",
              "        buttonEl.style.display =\n",
              "          google.colab.kernel.accessAllowed ? 'block' : 'none';\n",
              "\n",
              "        async function convertToInteractive(key) {\n",
              "          const element = document.querySelector('#df-40bee303-cde5-4bed-9481-6d29d7fc12df');\n",
              "          const dataTable =\n",
              "            await google.colab.kernel.invokeFunction('convertToInteractive',\n",
              "                                                     [key], {});\n",
              "          if (!dataTable) return;\n",
              "\n",
              "          const docLinkHtml = 'Like what you see? Visit the ' +\n",
              "            '<a target=\"_blank\" href=https://colab.research.google.com/notebooks/data_table.ipynb>data table notebook</a>'\n",
              "            + ' to learn more about interactive tables.';\n",
              "          element.innerHTML = '';\n",
              "          dataTable['output_type'] = 'display_data';\n",
              "          await google.colab.output.renderOutput(dataTable, element);\n",
              "          const docLink = document.createElement('div');\n",
              "          docLink.innerHTML = docLinkHtml;\n",
              "          element.appendChild(docLink);\n",
              "        }\n",
              "      </script>\n",
              "    </div>\n",
              "  </div>\n",
              "  "
            ]
          },
          "metadata": {},
          "execution_count": 101
        }
      ]
    },
    {
      "cell_type": "markdown",
      "source": [
        "his code creates a DataFrame df_train_fake from the train_path_fake list, assigns the column name 'path', adds a new column 'label' with a value of 0 for all rows, and displays the first few rows of the DataFrame."
      ],
      "metadata": {
        "id": "JdH77xCg8qcM"
      }
    },
    {
      "cell_type": "code",
      "source": [
        "train_path_real=[]\n",
        "\n",
        "base_2 = '</content/KAGGLE_unziped>/train/REAL/'\n",
        "\n",
        "for i in range(0,10):\n",
        "    c = '{}000{}.jpg'.format(base_2, i)\n",
        "    train_path_real.append(c)\n",
        "\n",
        "for i in range(0,10):\n",
        "    for j in range(2,11):\n",
        "        d = '{}000{} ({}).jpg'.format(base_2, i,j)\n",
        "        train_path_real.append(d)\n",
        "len(train_path_real)"
      ],
      "metadata": {
        "colab": {
          "base_uri": "https://localhost:8080/"
        },
        "id": "wUghs2e1_B-d",
        "outputId": "1695f537-dd9b-4833-eefe-2e7c832d4dbd"
      },
      "execution_count": 102,
      "outputs": [
        {
          "output_type": "execute_result",
          "data": {
            "text/plain": [
              "100"
            ]
          },
          "metadata": {},
          "execution_count": 102
        }
      ]
    },
    {
      "cell_type": "markdown",
      "source": [
        "This code generates a list of file paths for training data, consisting of real images, by combining the base directory path \"</content/KAGGLE_unziped>/train/REAL/\" with varying image file names and their corresponding numbers and extensions, resulting in a total of 100 file paths."
      ],
      "metadata": {
        "id": "1zXqRjNA82sv"
      }
    },
    {
      "cell_type": "code",
      "source": [
        "for i in range(10,100):\n",
        "    e = '{}00{}.jpg'.format(base_2, i)\n",
        "    train_path_real.append(e)\n",
        "\n",
        "\n",
        "for i in range(10,100):\n",
        "    for j in range(2,11):\n",
        "        f = '{}00{} ({}).jpg'.format(base_2, i,j)\n",
        "        train_path_real.append(f)\n",
        "len(train_path_real)"
      ],
      "metadata": {
        "colab": {
          "base_uri": "https://localhost:8080/"
        },
        "id": "7WnfzZxL_Si7",
        "outputId": "d49dd453-91cf-46e0-e87b-77aa82cf2820"
      },
      "execution_count": 103,
      "outputs": [
        {
          "output_type": "execute_result",
          "data": {
            "text/plain": [
              "1000"
            ]
          },
          "metadata": {},
          "execution_count": 103
        }
      ]
    },
    {
      "cell_type": "markdown",
      "source": [
        "This code extends the existing list of file paths for training data, consisting of real images, by including additional image file paths with numbers ranging from 10 to 99, along with variations of the file names using a nested loop, resulting in a total of 900 additional file paths."
      ],
      "metadata": {
        "id": "DK6Z7er79Rxh"
      }
    },
    {
      "cell_type": "code",
      "source": [
        "for i in range(100,1000):\n",
        "    g = '{}0{}.jpg'.format(base_2, i)\n",
        "    train_path_real.append(g)\n",
        "\n",
        "for i in range(100,1000):\n",
        "    for j in range(2,11):\n",
        "        h = '{}0{} ({}).jpg'.format(base_2, i,j)\n",
        "        train_path_real.append(h)\n",
        "len(train_path_real)"
      ],
      "metadata": {
        "colab": {
          "base_uri": "https://localhost:8080/"
        },
        "id": "MtOmxCO__XV_",
        "outputId": "04e11f48-7ca1-45d2-ef9f-dc27800920f1"
      },
      "execution_count": 104,
      "outputs": [
        {
          "output_type": "execute_result",
          "data": {
            "text/plain": [
              "10000"
            ]
          },
          "metadata": {},
          "execution_count": 104
        }
      ]
    },
    {
      "cell_type": "markdown",
      "source": [
        "This code further extends the list of file paths for training data, consisting of real images, by including additional image file paths with numbers ranging from 100 to 999, along with variations of the file names using a nested loop, resulting in a total of 9,000 additional file paths."
      ],
      "metadata": {
        "id": "f1dA9weM92DY"
      }
    },
    {
      "cell_type": "code",
      "source": [
        "for i in range(1000,5000):\n",
        "    k = '{}{}.jpg'.format(base_2, i)\n",
        "    train_path_real.append(k)\n",
        "\n",
        "for i in range(1000,5000):\n",
        "    for j in range(2,11):\n",
        "        l = '{}{} ({}).jpg'.format(base_2, i,j)\n",
        "        train_path_real.append(l)\n",
        "len(train_path_real)"
      ],
      "metadata": {
        "colab": {
          "base_uri": "https://localhost:8080/"
        },
        "id": "qTO6yNgS_a3u",
        "outputId": "f1eac940-2f2f-41e2-9456-a253e65b8b2b"
      },
      "execution_count": 105,
      "outputs": [
        {
          "output_type": "execute_result",
          "data": {
            "text/plain": [
              "50000"
            ]
          },
          "metadata": {},
          "execution_count": 105
        }
      ]
    },
    {
      "cell_type": "markdown",
      "source": [
        "This code further extends the list of file paths for training data, consisting of real images, by including additional image file paths with numbers ranging from 1000 to 4999, along with variations of the file names using a nested loop, resulting in a total of 40,000 additional file paths."
      ],
      "metadata": {
        "id": "_cQt97ka-Gb3"
      }
    },
    {
      "cell_type": "code",
      "source": [
        "df_train_real = pd.DataFrame(train_path_real)\n",
        "df_train_real.columns = ['path']\n",
        "df_train_real['label'] = 1\n",
        "df_train_real.head()"
      ],
      "metadata": {
        "colab": {
          "base_uri": "https://localhost:8080/",
          "height": 206
        },
        "id": "LauY_ESt_eDY",
        "outputId": "079ea01b-3991-40fb-c785-eaa31e27213d"
      },
      "execution_count": 106,
      "outputs": [
        {
          "output_type": "execute_result",
          "data": {
            "text/plain": [
              "                                            path  label\n",
              "0  </content/KAGGLE_unziped>/train/REAL/0000.jpg      1\n",
              "1  </content/KAGGLE_unziped>/train/REAL/0001.jpg      1\n",
              "2  </content/KAGGLE_unziped>/train/REAL/0002.jpg      1\n",
              "3  </content/KAGGLE_unziped>/train/REAL/0003.jpg      1\n",
              "4  </content/KAGGLE_unziped>/train/REAL/0004.jpg      1"
            ],
            "text/html": [
              "\n",
              "  <div id=\"df-9b8731ea-ca89-4a33-8c80-525f6486a8a9\">\n",
              "    <div class=\"colab-df-container\">\n",
              "      <div>\n",
              "<style scoped>\n",
              "    .dataframe tbody tr th:only-of-type {\n",
              "        vertical-align: middle;\n",
              "    }\n",
              "\n",
              "    .dataframe tbody tr th {\n",
              "        vertical-align: top;\n",
              "    }\n",
              "\n",
              "    .dataframe thead th {\n",
              "        text-align: right;\n",
              "    }\n",
              "</style>\n",
              "<table border=\"1\" class=\"dataframe\">\n",
              "  <thead>\n",
              "    <tr style=\"text-align: right;\">\n",
              "      <th></th>\n",
              "      <th>path</th>\n",
              "      <th>label</th>\n",
              "    </tr>\n",
              "  </thead>\n",
              "  <tbody>\n",
              "    <tr>\n",
              "      <th>0</th>\n",
              "      <td>&lt;/content/KAGGLE_unziped&gt;/train/REAL/0000.jpg</td>\n",
              "      <td>1</td>\n",
              "    </tr>\n",
              "    <tr>\n",
              "      <th>1</th>\n",
              "      <td>&lt;/content/KAGGLE_unziped&gt;/train/REAL/0001.jpg</td>\n",
              "      <td>1</td>\n",
              "    </tr>\n",
              "    <tr>\n",
              "      <th>2</th>\n",
              "      <td>&lt;/content/KAGGLE_unziped&gt;/train/REAL/0002.jpg</td>\n",
              "      <td>1</td>\n",
              "    </tr>\n",
              "    <tr>\n",
              "      <th>3</th>\n",
              "      <td>&lt;/content/KAGGLE_unziped&gt;/train/REAL/0003.jpg</td>\n",
              "      <td>1</td>\n",
              "    </tr>\n",
              "    <tr>\n",
              "      <th>4</th>\n",
              "      <td>&lt;/content/KAGGLE_unziped&gt;/train/REAL/0004.jpg</td>\n",
              "      <td>1</td>\n",
              "    </tr>\n",
              "  </tbody>\n",
              "</table>\n",
              "</div>\n",
              "      <button class=\"colab-df-convert\" onclick=\"convertToInteractive('df-9b8731ea-ca89-4a33-8c80-525f6486a8a9')\"\n",
              "              title=\"Convert this dataframe to an interactive table.\"\n",
              "              style=\"display:none;\">\n",
              "        \n",
              "  <svg xmlns=\"http://www.w3.org/2000/svg\" height=\"24px\"viewBox=\"0 0 24 24\"\n",
              "       width=\"24px\">\n",
              "    <path d=\"M0 0h24v24H0V0z\" fill=\"none\"/>\n",
              "    <path d=\"M18.56 5.44l.94 2.06.94-2.06 2.06-.94-2.06-.94-.94-2.06-.94 2.06-2.06.94zm-11 1L8.5 8.5l.94-2.06 2.06-.94-2.06-.94L8.5 2.5l-.94 2.06-2.06.94zm10 10l.94 2.06.94-2.06 2.06-.94-2.06-.94-.94-2.06-.94 2.06-2.06.94z\"/><path d=\"M17.41 7.96l-1.37-1.37c-.4-.4-.92-.59-1.43-.59-.52 0-1.04.2-1.43.59L10.3 9.45l-7.72 7.72c-.78.78-.78 2.05 0 2.83L4 21.41c.39.39.9.59 1.41.59.51 0 1.02-.2 1.41-.59l7.78-7.78 2.81-2.81c.8-.78.8-2.07 0-2.86zM5.41 20L4 18.59l7.72-7.72 1.47 1.35L5.41 20z\"/>\n",
              "  </svg>\n",
              "      </button>\n",
              "      \n",
              "  <style>\n",
              "    .colab-df-container {\n",
              "      display:flex;\n",
              "      flex-wrap:wrap;\n",
              "      gap: 12px;\n",
              "    }\n",
              "\n",
              "    .colab-df-convert {\n",
              "      background-color: #E8F0FE;\n",
              "      border: none;\n",
              "      border-radius: 50%;\n",
              "      cursor: pointer;\n",
              "      display: none;\n",
              "      fill: #1967D2;\n",
              "      height: 32px;\n",
              "      padding: 0 0 0 0;\n",
              "      width: 32px;\n",
              "    }\n",
              "\n",
              "    .colab-df-convert:hover {\n",
              "      background-color: #E2EBFA;\n",
              "      box-shadow: 0px 1px 2px rgba(60, 64, 67, 0.3), 0px 1px 3px 1px rgba(60, 64, 67, 0.15);\n",
              "      fill: #174EA6;\n",
              "    }\n",
              "\n",
              "    [theme=dark] .colab-df-convert {\n",
              "      background-color: #3B4455;\n",
              "      fill: #D2E3FC;\n",
              "    }\n",
              "\n",
              "    [theme=dark] .colab-df-convert:hover {\n",
              "      background-color: #434B5C;\n",
              "      box-shadow: 0px 1px 3px 1px rgba(0, 0, 0, 0.15);\n",
              "      filter: drop-shadow(0px 1px 2px rgba(0, 0, 0, 0.3));\n",
              "      fill: #FFFFFF;\n",
              "    }\n",
              "  </style>\n",
              "\n",
              "      <script>\n",
              "        const buttonEl =\n",
              "          document.querySelector('#df-9b8731ea-ca89-4a33-8c80-525f6486a8a9 button.colab-df-convert');\n",
              "        buttonEl.style.display =\n",
              "          google.colab.kernel.accessAllowed ? 'block' : 'none';\n",
              "\n",
              "        async function convertToInteractive(key) {\n",
              "          const element = document.querySelector('#df-9b8731ea-ca89-4a33-8c80-525f6486a8a9');\n",
              "          const dataTable =\n",
              "            await google.colab.kernel.invokeFunction('convertToInteractive',\n",
              "                                                     [key], {});\n",
              "          if (!dataTable) return;\n",
              "\n",
              "          const docLinkHtml = 'Like what you see? Visit the ' +\n",
              "            '<a target=\"_blank\" href=https://colab.research.google.com/notebooks/data_table.ipynb>data table notebook</a>'\n",
              "            + ' to learn more about interactive tables.';\n",
              "          element.innerHTML = '';\n",
              "          dataTable['output_type'] = 'display_data';\n",
              "          await google.colab.output.renderOutput(dataTable, element);\n",
              "          const docLink = document.createElement('div');\n",
              "          docLink.innerHTML = docLinkHtml;\n",
              "          element.appendChild(docLink);\n",
              "        }\n",
              "      </script>\n",
              "    </div>\n",
              "  </div>\n",
              "  "
            ]
          },
          "metadata": {},
          "execution_count": 106
        }
      ]
    },
    {
      "cell_type": "markdown",
      "source": [
        "This code creates a DataFrame df_train_real from the train_path_real list, assigns the column name 'path', adds a new column 'label' with a value of 1 for all rows, and displays the first few rows of the DataFrame."
      ],
      "metadata": {
        "id": "f6sVtGnF-VUX"
      }
    },
    {
      "cell_type": "code",
      "source": [
        "df_train = pd.concat((df_train_fake, df_train_real), axis = 0 )\n",
        "print(df_train.shape)\n",
        "df_train.sample(5)"
      ],
      "metadata": {
        "colab": {
          "base_uri": "https://localhost:8080/",
          "height": 224
        },
        "id": "_ovdREug_fso",
        "outputId": "6d9fe28a-ecb7-42cf-db9f-e13379997acf"
      },
      "execution_count": 107,
      "outputs": [
        {
          "output_type": "stream",
          "name": "stdout",
          "text": [
            "(100000, 2)\n"
          ]
        },
        {
          "output_type": "execute_result",
          "data": {
            "text/plain": [
              "                                                    path  label\n",
              "10255      </content/KAGGLE_unziped>/train/REAL/1255.jpg      1\n",
              "5197   </content/KAGGLE_unziped>/train/FAKE/1021 (10)...      0\n",
              "3668   </content/KAGGLE_unziped>/train/REAL/0296 (6).jpg      1\n",
              "29193  </content/KAGGLE_unziped>/train/REAL/2688 (3).jpg      1\n",
              "9305   </content/KAGGLE_unziped>/train/FAKE/1478 (5).jpg      0"
            ],
            "text/html": [
              "\n",
              "  <div id=\"df-6f6f1fd1-6c45-428e-92f7-8900a7da335f\">\n",
              "    <div class=\"colab-df-container\">\n",
              "      <div>\n",
              "<style scoped>\n",
              "    .dataframe tbody tr th:only-of-type {\n",
              "        vertical-align: middle;\n",
              "    }\n",
              "\n",
              "    .dataframe tbody tr th {\n",
              "        vertical-align: top;\n",
              "    }\n",
              "\n",
              "    .dataframe thead th {\n",
              "        text-align: right;\n",
              "    }\n",
              "</style>\n",
              "<table border=\"1\" class=\"dataframe\">\n",
              "  <thead>\n",
              "    <tr style=\"text-align: right;\">\n",
              "      <th></th>\n",
              "      <th>path</th>\n",
              "      <th>label</th>\n",
              "    </tr>\n",
              "  </thead>\n",
              "  <tbody>\n",
              "    <tr>\n",
              "      <th>10255</th>\n",
              "      <td>&lt;/content/KAGGLE_unziped&gt;/train/REAL/1255.jpg</td>\n",
              "      <td>1</td>\n",
              "    </tr>\n",
              "    <tr>\n",
              "      <th>5197</th>\n",
              "      <td>&lt;/content/KAGGLE_unziped&gt;/train/FAKE/1021 (10)...</td>\n",
              "      <td>0</td>\n",
              "    </tr>\n",
              "    <tr>\n",
              "      <th>3668</th>\n",
              "      <td>&lt;/content/KAGGLE_unziped&gt;/train/REAL/0296 (6).jpg</td>\n",
              "      <td>1</td>\n",
              "    </tr>\n",
              "    <tr>\n",
              "      <th>29193</th>\n",
              "      <td>&lt;/content/KAGGLE_unziped&gt;/train/REAL/2688 (3).jpg</td>\n",
              "      <td>1</td>\n",
              "    </tr>\n",
              "    <tr>\n",
              "      <th>9305</th>\n",
              "      <td>&lt;/content/KAGGLE_unziped&gt;/train/FAKE/1478 (5).jpg</td>\n",
              "      <td>0</td>\n",
              "    </tr>\n",
              "  </tbody>\n",
              "</table>\n",
              "</div>\n",
              "      <button class=\"colab-df-convert\" onclick=\"convertToInteractive('df-6f6f1fd1-6c45-428e-92f7-8900a7da335f')\"\n",
              "              title=\"Convert this dataframe to an interactive table.\"\n",
              "              style=\"display:none;\">\n",
              "        \n",
              "  <svg xmlns=\"http://www.w3.org/2000/svg\" height=\"24px\"viewBox=\"0 0 24 24\"\n",
              "       width=\"24px\">\n",
              "    <path d=\"M0 0h24v24H0V0z\" fill=\"none\"/>\n",
              "    <path d=\"M18.56 5.44l.94 2.06.94-2.06 2.06-.94-2.06-.94-.94-2.06-.94 2.06-2.06.94zm-11 1L8.5 8.5l.94-2.06 2.06-.94-2.06-.94L8.5 2.5l-.94 2.06-2.06.94zm10 10l.94 2.06.94-2.06 2.06-.94-2.06-.94-.94-2.06-.94 2.06-2.06.94z\"/><path d=\"M17.41 7.96l-1.37-1.37c-.4-.4-.92-.59-1.43-.59-.52 0-1.04.2-1.43.59L10.3 9.45l-7.72 7.72c-.78.78-.78 2.05 0 2.83L4 21.41c.39.39.9.59 1.41.59.51 0 1.02-.2 1.41-.59l7.78-7.78 2.81-2.81c.8-.78.8-2.07 0-2.86zM5.41 20L4 18.59l7.72-7.72 1.47 1.35L5.41 20z\"/>\n",
              "  </svg>\n",
              "      </button>\n",
              "      \n",
              "  <style>\n",
              "    .colab-df-container {\n",
              "      display:flex;\n",
              "      flex-wrap:wrap;\n",
              "      gap: 12px;\n",
              "    }\n",
              "\n",
              "    .colab-df-convert {\n",
              "      background-color: #E8F0FE;\n",
              "      border: none;\n",
              "      border-radius: 50%;\n",
              "      cursor: pointer;\n",
              "      display: none;\n",
              "      fill: #1967D2;\n",
              "      height: 32px;\n",
              "      padding: 0 0 0 0;\n",
              "      width: 32px;\n",
              "    }\n",
              "\n",
              "    .colab-df-convert:hover {\n",
              "      background-color: #E2EBFA;\n",
              "      box-shadow: 0px 1px 2px rgba(60, 64, 67, 0.3), 0px 1px 3px 1px rgba(60, 64, 67, 0.15);\n",
              "      fill: #174EA6;\n",
              "    }\n",
              "\n",
              "    [theme=dark] .colab-df-convert {\n",
              "      background-color: #3B4455;\n",
              "      fill: #D2E3FC;\n",
              "    }\n",
              "\n",
              "    [theme=dark] .colab-df-convert:hover {\n",
              "      background-color: #434B5C;\n",
              "      box-shadow: 0px 1px 3px 1px rgba(0, 0, 0, 0.15);\n",
              "      filter: drop-shadow(0px 1px 2px rgba(0, 0, 0, 0.3));\n",
              "      fill: #FFFFFF;\n",
              "    }\n",
              "  </style>\n",
              "\n",
              "      <script>\n",
              "        const buttonEl =\n",
              "          document.querySelector('#df-6f6f1fd1-6c45-428e-92f7-8900a7da335f button.colab-df-convert');\n",
              "        buttonEl.style.display =\n",
              "          google.colab.kernel.accessAllowed ? 'block' : 'none';\n",
              "\n",
              "        async function convertToInteractive(key) {\n",
              "          const element = document.querySelector('#df-6f6f1fd1-6c45-428e-92f7-8900a7da335f');\n",
              "          const dataTable =\n",
              "            await google.colab.kernel.invokeFunction('convertToInteractive',\n",
              "                                                     [key], {});\n",
              "          if (!dataTable) return;\n",
              "\n",
              "          const docLinkHtml = 'Like what you see? Visit the ' +\n",
              "            '<a target=\"_blank\" href=https://colab.research.google.com/notebooks/data_table.ipynb>data table notebook</a>'\n",
              "            + ' to learn more about interactive tables.';\n",
              "          element.innerHTML = '';\n",
              "          dataTable['output_type'] = 'display_data';\n",
              "          await google.colab.output.renderOutput(dataTable, element);\n",
              "          const docLink = document.createElement('div');\n",
              "          docLink.innerHTML = docLinkHtml;\n",
              "          element.appendChild(docLink);\n",
              "        }\n",
              "      </script>\n",
              "    </div>\n",
              "  </div>\n",
              "  "
            ]
          },
          "metadata": {},
          "execution_count": 107
        }
      ]
    },
    {
      "cell_type": "markdown",
      "source": [
        "\n",
        "This code concatenates the DataFrames df_train_fake and df_train_real along the row axis to create a new DataFrame df_train, prints its shape, and displays a random sample of 5 rows from the DataFrame."
      ],
      "metadata": {
        "id": "eZDmrm9b-hEp"
      }
    },
    {
      "cell_type": "code",
      "source": [
        "image_df = []\n",
        "for image in df_train['path']:\n",
        "    img = cv2.imread(image)\n",
        "    resized = cv2.resize(img,(32,32))\n",
        "    image_df.append(resized)\n",
        "image_array = np.array(image_df)\n",
        "X_train = image_array/255\n",
        "X_train.ndim"
      ],
      "metadata": {
        "colab": {
          "base_uri": "https://localhost:8080/"
        },
        "id": "pKFjtrlC_ku_",
        "outputId": "aafd0324-b7d7-4619-fd3f-e0785375b459"
      },
      "execution_count": 108,
      "outputs": [
        {
          "output_type": "execute_result",
          "data": {
            "text/plain": [
              "4"
            ]
          },
          "metadata": {},
          "execution_count": 108
        }
      ]
    },
    {
      "cell_type": "markdown",
      "source": [
        "This code reads and resizes images from the file paths in the DataFrame df_train, stores them in a list image_df, converts the list to a NumPy array, normalizes the pixel values by dividing by 255, and determines the number of dimensions of the resulting array X_train."
      ],
      "metadata": {
        "id": "DUZZh3N2-14Q"
      }
    },
    {
      "cell_type": "code",
      "source": [
        "y_train = df_train['label']\n",
        "y_train.head()"
      ],
      "metadata": {
        "colab": {
          "base_uri": "https://localhost:8080/"
        },
        "id": "1wWyJddA_pAe",
        "outputId": "2496e9d2-25bf-4d3b-a517-b3be9c46ebff"
      },
      "execution_count": 109,
      "outputs": [
        {
          "output_type": "execute_result",
          "data": {
            "text/plain": [
              "0    0\n",
              "1    0\n",
              "2    0\n",
              "3    0\n",
              "4    0\n",
              "Name: label, dtype: int64"
            ]
          },
          "metadata": {},
          "execution_count": 109
        }
      ]
    },
    {
      "cell_type": "markdown",
      "source": [
        "This code assigns the 'label' column from the DataFrame df_train to the variable y_train and displays the first few values of y_train."
      ],
      "metadata": {
        "id": "0FZ1eFex_PRW"
      }
    },
    {
      "cell_type": "code",
      "source": [
        "test_path_fake =[]\n",
        "\n",
        "base_3 = '</content/KAGGLE_unziped>/test/FAKE/'\n",
        "\n",
        "for i in range(0,1000):\n",
        "    m = '{}{}.jpg'.format(base_3, i)\n",
        "    test_path_fake.append(m)\n",
        "    \n",
        "for i in range(0,1000):\n",
        "    for j in range(2,11):\n",
        "        n = '{}{} ({}).jpg'.format(base_3, i, j)\n",
        "        test_path_fake.append(n)\n",
        "len(test_path_fake)"
      ],
      "metadata": {
        "colab": {
          "base_uri": "https://localhost:8080/"
        },
        "id": "PAibt3Rj_qep",
        "outputId": "7273c6fe-4757-44e1-88f6-4bcb62be59b1"
      },
      "execution_count": 110,
      "outputs": [
        {
          "output_type": "execute_result",
          "data": {
            "text/plain": [
              "10000"
            ]
          },
          "metadata": {},
          "execution_count": 110
        }
      ]
    },
    {
      "cell_type": "markdown",
      "source": [
        "This code generates a list of file paths for test data, consisting of fake images, by combining the base directory path \"</content/KAGGLE_unziped>/test/FAKE/\" with varying image file names and their corresponding numbers and extensions, resulting in a total of 10,000 file paths."
      ],
      "metadata": {
        "id": "5HDOht_H_dkZ"
      }
    },
    {
      "cell_type": "code",
      "source": [
        "df_test_fake = pd.DataFrame(test_path_fake)\n",
        "df_test_fake.columns = ['path']\n",
        "df_test_fake['label'] = 0\n",
        "df_test_fake.head()"
      ],
      "metadata": {
        "colab": {
          "base_uri": "https://localhost:8080/",
          "height": 206
        },
        "id": "3lY2N6Qf_6Ql",
        "outputId": "325656a2-a0d4-48db-91e6-cfdd46bca217"
      },
      "execution_count": 111,
      "outputs": [
        {
          "output_type": "execute_result",
          "data": {
            "text/plain": [
              "                                        path  label\n",
              "0  </content/KAGGLE_unziped>/test/FAKE/0.jpg      0\n",
              "1  </content/KAGGLE_unziped>/test/FAKE/1.jpg      0\n",
              "2  </content/KAGGLE_unziped>/test/FAKE/2.jpg      0\n",
              "3  </content/KAGGLE_unziped>/test/FAKE/3.jpg      0\n",
              "4  </content/KAGGLE_unziped>/test/FAKE/4.jpg      0"
            ],
            "text/html": [
              "\n",
              "  <div id=\"df-1ed6d70b-4618-4e9b-9b27-c2a1c6583097\">\n",
              "    <div class=\"colab-df-container\">\n",
              "      <div>\n",
              "<style scoped>\n",
              "    .dataframe tbody tr th:only-of-type {\n",
              "        vertical-align: middle;\n",
              "    }\n",
              "\n",
              "    .dataframe tbody tr th {\n",
              "        vertical-align: top;\n",
              "    }\n",
              "\n",
              "    .dataframe thead th {\n",
              "        text-align: right;\n",
              "    }\n",
              "</style>\n",
              "<table border=\"1\" class=\"dataframe\">\n",
              "  <thead>\n",
              "    <tr style=\"text-align: right;\">\n",
              "      <th></th>\n",
              "      <th>path</th>\n",
              "      <th>label</th>\n",
              "    </tr>\n",
              "  </thead>\n",
              "  <tbody>\n",
              "    <tr>\n",
              "      <th>0</th>\n",
              "      <td>&lt;/content/KAGGLE_unziped&gt;/test/FAKE/0.jpg</td>\n",
              "      <td>0</td>\n",
              "    </tr>\n",
              "    <tr>\n",
              "      <th>1</th>\n",
              "      <td>&lt;/content/KAGGLE_unziped&gt;/test/FAKE/1.jpg</td>\n",
              "      <td>0</td>\n",
              "    </tr>\n",
              "    <tr>\n",
              "      <th>2</th>\n",
              "      <td>&lt;/content/KAGGLE_unziped&gt;/test/FAKE/2.jpg</td>\n",
              "      <td>0</td>\n",
              "    </tr>\n",
              "    <tr>\n",
              "      <th>3</th>\n",
              "      <td>&lt;/content/KAGGLE_unziped&gt;/test/FAKE/3.jpg</td>\n",
              "      <td>0</td>\n",
              "    </tr>\n",
              "    <tr>\n",
              "      <th>4</th>\n",
              "      <td>&lt;/content/KAGGLE_unziped&gt;/test/FAKE/4.jpg</td>\n",
              "      <td>0</td>\n",
              "    </tr>\n",
              "  </tbody>\n",
              "</table>\n",
              "</div>\n",
              "      <button class=\"colab-df-convert\" onclick=\"convertToInteractive('df-1ed6d70b-4618-4e9b-9b27-c2a1c6583097')\"\n",
              "              title=\"Convert this dataframe to an interactive table.\"\n",
              "              style=\"display:none;\">\n",
              "        \n",
              "  <svg xmlns=\"http://www.w3.org/2000/svg\" height=\"24px\"viewBox=\"0 0 24 24\"\n",
              "       width=\"24px\">\n",
              "    <path d=\"M0 0h24v24H0V0z\" fill=\"none\"/>\n",
              "    <path d=\"M18.56 5.44l.94 2.06.94-2.06 2.06-.94-2.06-.94-.94-2.06-.94 2.06-2.06.94zm-11 1L8.5 8.5l.94-2.06 2.06-.94-2.06-.94L8.5 2.5l-.94 2.06-2.06.94zm10 10l.94 2.06.94-2.06 2.06-.94-2.06-.94-.94-2.06-.94 2.06-2.06.94z\"/><path d=\"M17.41 7.96l-1.37-1.37c-.4-.4-.92-.59-1.43-.59-.52 0-1.04.2-1.43.59L10.3 9.45l-7.72 7.72c-.78.78-.78 2.05 0 2.83L4 21.41c.39.39.9.59 1.41.59.51 0 1.02-.2 1.41-.59l7.78-7.78 2.81-2.81c.8-.78.8-2.07 0-2.86zM5.41 20L4 18.59l7.72-7.72 1.47 1.35L5.41 20z\"/>\n",
              "  </svg>\n",
              "      </button>\n",
              "      \n",
              "  <style>\n",
              "    .colab-df-container {\n",
              "      display:flex;\n",
              "      flex-wrap:wrap;\n",
              "      gap: 12px;\n",
              "    }\n",
              "\n",
              "    .colab-df-convert {\n",
              "      background-color: #E8F0FE;\n",
              "      border: none;\n",
              "      border-radius: 50%;\n",
              "      cursor: pointer;\n",
              "      display: none;\n",
              "      fill: #1967D2;\n",
              "      height: 32px;\n",
              "      padding: 0 0 0 0;\n",
              "      width: 32px;\n",
              "    }\n",
              "\n",
              "    .colab-df-convert:hover {\n",
              "      background-color: #E2EBFA;\n",
              "      box-shadow: 0px 1px 2px rgba(60, 64, 67, 0.3), 0px 1px 3px 1px rgba(60, 64, 67, 0.15);\n",
              "      fill: #174EA6;\n",
              "    }\n",
              "\n",
              "    [theme=dark] .colab-df-convert {\n",
              "      background-color: #3B4455;\n",
              "      fill: #D2E3FC;\n",
              "    }\n",
              "\n",
              "    [theme=dark] .colab-df-convert:hover {\n",
              "      background-color: #434B5C;\n",
              "      box-shadow: 0px 1px 3px 1px rgba(0, 0, 0, 0.15);\n",
              "      filter: drop-shadow(0px 1px 2px rgba(0, 0, 0, 0.3));\n",
              "      fill: #FFFFFF;\n",
              "    }\n",
              "  </style>\n",
              "\n",
              "      <script>\n",
              "        const buttonEl =\n",
              "          document.querySelector('#df-1ed6d70b-4618-4e9b-9b27-c2a1c6583097 button.colab-df-convert');\n",
              "        buttonEl.style.display =\n",
              "          google.colab.kernel.accessAllowed ? 'block' : 'none';\n",
              "\n",
              "        async function convertToInteractive(key) {\n",
              "          const element = document.querySelector('#df-1ed6d70b-4618-4e9b-9b27-c2a1c6583097');\n",
              "          const dataTable =\n",
              "            await google.colab.kernel.invokeFunction('convertToInteractive',\n",
              "                                                     [key], {});\n",
              "          if (!dataTable) return;\n",
              "\n",
              "          const docLinkHtml = 'Like what you see? Visit the ' +\n",
              "            '<a target=\"_blank\" href=https://colab.research.google.com/notebooks/data_table.ipynb>data table notebook</a>'\n",
              "            + ' to learn more about interactive tables.';\n",
              "          element.innerHTML = '';\n",
              "          dataTable['output_type'] = 'display_data';\n",
              "          await google.colab.output.renderOutput(dataTable, element);\n",
              "          const docLink = document.createElement('div');\n",
              "          docLink.innerHTML = docLinkHtml;\n",
              "          element.appendChild(docLink);\n",
              "        }\n",
              "      </script>\n",
              "    </div>\n",
              "  </div>\n",
              "  "
            ]
          },
          "metadata": {},
          "execution_count": 111
        }
      ]
    },
    {
      "cell_type": "markdown",
      "source": [
        "This code creates a DataFrame df_test_fake from the test_path_fake list, assigns the column name 'path', adds a new column 'label' with a value of 0 for all rows, and displays the first few rows of the DataFrame."
      ],
      "metadata": {
        "id": "Bx3jgmaa_qC8"
      }
    },
    {
      "cell_type": "code",
      "source": [
        "test_path_real =[]\n",
        "\n",
        "base_4 = '</content/KAGGLE_unziped>/test/REAL/'\n",
        "\n",
        "for i in range(0,10):\n",
        "    o = '{}000{}.jpg'.format(base_4, i)\n",
        "    test_path_real.append(o)\n",
        "\n",
        "for i in range(0,10):\n",
        "    for j in range(2,11):\n",
        "        p = '{}000{} ({}).jpg'.format(base_4, i,j)\n",
        "        test_path_real.append(p)\n",
        "len(test_path_real)"
      ],
      "metadata": {
        "colab": {
          "base_uri": "https://localhost:8080/"
        },
        "id": "rDGqIdNw_-EZ",
        "outputId": "6467c611-43e3-497f-8067-4e10ade9dfdb"
      },
      "execution_count": 112,
      "outputs": [
        {
          "output_type": "execute_result",
          "data": {
            "text/plain": [
              "100"
            ]
          },
          "metadata": {},
          "execution_count": 112
        }
      ]
    },
    {
      "cell_type": "markdown",
      "source": [
        "This code generates a list of file paths for test data, consisting of real images, by combining the base directory path \"</content/KAGGLE_unziped>/test/REAL/\" with varying image file names and their corresponding numbers and extensions, resulting in a total of 100 file paths.\n",
        "\n",
        "\n",
        "\n",
        "\n"
      ],
      "metadata": {
        "id": "bakFjGFV_3mE"
      }
    },
    {
      "cell_type": "code",
      "source": [
        "for i in range(10,100):\n",
        "    q = '{}00{}.jpg'.format(base_4, i)\n",
        "    test_path_real.append(q)\n",
        "\n",
        "for i in range(10,100):\n",
        "    for j in range(2,11):\n",
        "        r = '{}00{} ({}).jpg'.format(base_4, i,j)\n",
        "        test_path_real.append(r)\n",
        "len(test_path_real) "
      ],
      "metadata": {
        "colab": {
          "base_uri": "https://localhost:8080/"
        },
        "id": "UaUY5x9WAFIf",
        "outputId": "0bcfa221-6961-4f56-c93b-fbbbb97f50e7"
      },
      "execution_count": 113,
      "outputs": [
        {
          "output_type": "execute_result",
          "data": {
            "text/plain": [
              "1000"
            ]
          },
          "metadata": {},
          "execution_count": 113
        }
      ]
    },
    {
      "cell_type": "markdown",
      "source": [
        "This code extends the existing list of file paths for test data, consisting of real images, by including additional image file paths with numbers ranging from 10 to 99, along with variations of the file names using a nested loop, resulting in a total of 900 additional file paths."
      ],
      "metadata": {
        "id": "gJZDMElhAA1B"
      }
    },
    {
      "cell_type": "code",
      "source": [
        "for i in range(100,1000):\n",
        "    s = '{}0{}.jpg'.format(base_4, i)\n",
        "    test_path_real.append(s)\n",
        "    \n",
        "for i in range(100,1000):\n",
        "    for j in range(2,11):\n",
        "        t = '{}0{} ({}).jpg'.format(base_4, i,j)\n",
        "        test_path_real.append(t)\n",
        "len(test_path_real)"
      ],
      "metadata": {
        "colab": {
          "base_uri": "https://localhost:8080/"
        },
        "id": "xd4PFWXHAG45",
        "outputId": "fa0b5703-0b64-4f74-b11b-036cff716f8c"
      },
      "execution_count": 114,
      "outputs": [
        {
          "output_type": "execute_result",
          "data": {
            "text/plain": [
              "10000"
            ]
          },
          "metadata": {},
          "execution_count": 114
        }
      ]
    },
    {
      "cell_type": "markdown",
      "source": [
        "This code further extends the list of file paths for test data, consisting of real images, by including additional image file paths with numbers ranging from 100 to 999, along with variations of the file names using a nested loop, resulting in a total of 9,000 additional file paths."
      ],
      "metadata": {
        "id": "CClX7BgTAtm-"
      }
    },
    {
      "cell_type": "code",
      "source": [
        "df_test_real = pd.DataFrame(test_path_real)\n",
        "df_test_real.columns = ['path']\n",
        "df_test_real['label'] = 1\n",
        "df_test_real.head()"
      ],
      "metadata": {
        "colab": {
          "base_uri": "https://localhost:8080/",
          "height": 206
        },
        "id": "z4Rhm2neALuy",
        "outputId": "5ded1011-ef48-40c0-af31-071c7b81abaa"
      },
      "execution_count": 115,
      "outputs": [
        {
          "output_type": "execute_result",
          "data": {
            "text/plain": [
              "                                           path  label\n",
              "0  </content/KAGGLE_unziped>/test/REAL/0000.jpg      1\n",
              "1  </content/KAGGLE_unziped>/test/REAL/0001.jpg      1\n",
              "2  </content/KAGGLE_unziped>/test/REAL/0002.jpg      1\n",
              "3  </content/KAGGLE_unziped>/test/REAL/0003.jpg      1\n",
              "4  </content/KAGGLE_unziped>/test/REAL/0004.jpg      1"
            ],
            "text/html": [
              "\n",
              "  <div id=\"df-0afe6de4-7d99-4598-b0fa-c21937147ac1\">\n",
              "    <div class=\"colab-df-container\">\n",
              "      <div>\n",
              "<style scoped>\n",
              "    .dataframe tbody tr th:only-of-type {\n",
              "        vertical-align: middle;\n",
              "    }\n",
              "\n",
              "    .dataframe tbody tr th {\n",
              "        vertical-align: top;\n",
              "    }\n",
              "\n",
              "    .dataframe thead th {\n",
              "        text-align: right;\n",
              "    }\n",
              "</style>\n",
              "<table border=\"1\" class=\"dataframe\">\n",
              "  <thead>\n",
              "    <tr style=\"text-align: right;\">\n",
              "      <th></th>\n",
              "      <th>path</th>\n",
              "      <th>label</th>\n",
              "    </tr>\n",
              "  </thead>\n",
              "  <tbody>\n",
              "    <tr>\n",
              "      <th>0</th>\n",
              "      <td>&lt;/content/KAGGLE_unziped&gt;/test/REAL/0000.jpg</td>\n",
              "      <td>1</td>\n",
              "    </tr>\n",
              "    <tr>\n",
              "      <th>1</th>\n",
              "      <td>&lt;/content/KAGGLE_unziped&gt;/test/REAL/0001.jpg</td>\n",
              "      <td>1</td>\n",
              "    </tr>\n",
              "    <tr>\n",
              "      <th>2</th>\n",
              "      <td>&lt;/content/KAGGLE_unziped&gt;/test/REAL/0002.jpg</td>\n",
              "      <td>1</td>\n",
              "    </tr>\n",
              "    <tr>\n",
              "      <th>3</th>\n",
              "      <td>&lt;/content/KAGGLE_unziped&gt;/test/REAL/0003.jpg</td>\n",
              "      <td>1</td>\n",
              "    </tr>\n",
              "    <tr>\n",
              "      <th>4</th>\n",
              "      <td>&lt;/content/KAGGLE_unziped&gt;/test/REAL/0004.jpg</td>\n",
              "      <td>1</td>\n",
              "    </tr>\n",
              "  </tbody>\n",
              "</table>\n",
              "</div>\n",
              "      <button class=\"colab-df-convert\" onclick=\"convertToInteractive('df-0afe6de4-7d99-4598-b0fa-c21937147ac1')\"\n",
              "              title=\"Convert this dataframe to an interactive table.\"\n",
              "              style=\"display:none;\">\n",
              "        \n",
              "  <svg xmlns=\"http://www.w3.org/2000/svg\" height=\"24px\"viewBox=\"0 0 24 24\"\n",
              "       width=\"24px\">\n",
              "    <path d=\"M0 0h24v24H0V0z\" fill=\"none\"/>\n",
              "    <path d=\"M18.56 5.44l.94 2.06.94-2.06 2.06-.94-2.06-.94-.94-2.06-.94 2.06-2.06.94zm-11 1L8.5 8.5l.94-2.06 2.06-.94-2.06-.94L8.5 2.5l-.94 2.06-2.06.94zm10 10l.94 2.06.94-2.06 2.06-.94-2.06-.94-.94-2.06-.94 2.06-2.06.94z\"/><path d=\"M17.41 7.96l-1.37-1.37c-.4-.4-.92-.59-1.43-.59-.52 0-1.04.2-1.43.59L10.3 9.45l-7.72 7.72c-.78.78-.78 2.05 0 2.83L4 21.41c.39.39.9.59 1.41.59.51 0 1.02-.2 1.41-.59l7.78-7.78 2.81-2.81c.8-.78.8-2.07 0-2.86zM5.41 20L4 18.59l7.72-7.72 1.47 1.35L5.41 20z\"/>\n",
              "  </svg>\n",
              "      </button>\n",
              "      \n",
              "  <style>\n",
              "    .colab-df-container {\n",
              "      display:flex;\n",
              "      flex-wrap:wrap;\n",
              "      gap: 12px;\n",
              "    }\n",
              "\n",
              "    .colab-df-convert {\n",
              "      background-color: #E8F0FE;\n",
              "      border: none;\n",
              "      border-radius: 50%;\n",
              "      cursor: pointer;\n",
              "      display: none;\n",
              "      fill: #1967D2;\n",
              "      height: 32px;\n",
              "      padding: 0 0 0 0;\n",
              "      width: 32px;\n",
              "    }\n",
              "\n",
              "    .colab-df-convert:hover {\n",
              "      background-color: #E2EBFA;\n",
              "      box-shadow: 0px 1px 2px rgba(60, 64, 67, 0.3), 0px 1px 3px 1px rgba(60, 64, 67, 0.15);\n",
              "      fill: #174EA6;\n",
              "    }\n",
              "\n",
              "    [theme=dark] .colab-df-convert {\n",
              "      background-color: #3B4455;\n",
              "      fill: #D2E3FC;\n",
              "    }\n",
              "\n",
              "    [theme=dark] .colab-df-convert:hover {\n",
              "      background-color: #434B5C;\n",
              "      box-shadow: 0px 1px 3px 1px rgba(0, 0, 0, 0.15);\n",
              "      filter: drop-shadow(0px 1px 2px rgba(0, 0, 0, 0.3));\n",
              "      fill: #FFFFFF;\n",
              "    }\n",
              "  </style>\n",
              "\n",
              "      <script>\n",
              "        const buttonEl =\n",
              "          document.querySelector('#df-0afe6de4-7d99-4598-b0fa-c21937147ac1 button.colab-df-convert');\n",
              "        buttonEl.style.display =\n",
              "          google.colab.kernel.accessAllowed ? 'block' : 'none';\n",
              "\n",
              "        async function convertToInteractive(key) {\n",
              "          const element = document.querySelector('#df-0afe6de4-7d99-4598-b0fa-c21937147ac1');\n",
              "          const dataTable =\n",
              "            await google.colab.kernel.invokeFunction('convertToInteractive',\n",
              "                                                     [key], {});\n",
              "          if (!dataTable) return;\n",
              "\n",
              "          const docLinkHtml = 'Like what you see? Visit the ' +\n",
              "            '<a target=\"_blank\" href=https://colab.research.google.com/notebooks/data_table.ipynb>data table notebook</a>'\n",
              "            + ' to learn more about interactive tables.';\n",
              "          element.innerHTML = '';\n",
              "          dataTable['output_type'] = 'display_data';\n",
              "          await google.colab.output.renderOutput(dataTable, element);\n",
              "          const docLink = document.createElement('div');\n",
              "          docLink.innerHTML = docLinkHtml;\n",
              "          element.appendChild(docLink);\n",
              "        }\n",
              "      </script>\n",
              "    </div>\n",
              "  </div>\n",
              "  "
            ]
          },
          "metadata": {},
          "execution_count": 115
        }
      ]
    },
    {
      "cell_type": "markdown",
      "source": [
        "This code creates a DataFrame df_test_real from the test_path_real list, assigns the column name 'path', adds a new column 'label' with a value of 1 for all rows, and displays the first few rows of the DataFrame."
      ],
      "metadata": {
        "id": "Q1IJ4dYzA85N"
      }
    },
    {
      "cell_type": "code",
      "source": [
        "df_test = pd.concat((df_test_fake, df_test_real), axis = 0 )\n",
        "print(df_test.shape)\n",
        "df_test.sample(5)"
      ],
      "metadata": {
        "colab": {
          "base_uri": "https://localhost:8080/",
          "height": 224
        },
        "id": "Mxf-iVuSAP7-",
        "outputId": "819cac47-7b4a-4711-c9a6-b305a53c209e"
      },
      "execution_count": 116,
      "outputs": [
        {
          "output_type": "stream",
          "name": "stdout",
          "text": [
            "(20000, 2)\n"
          ]
        },
        {
          "output_type": "execute_result",
          "data": {
            "text/plain": [
              "                                                  path  label\n",
              "9054  </content/KAGGLE_unziped>/test/FAKE/894 (10).jpg      0\n",
              "2299   </content/KAGGLE_unziped>/test/FAKE/144 (5).jpg      0\n",
              "3534  </content/KAGGLE_unziped>/test/REAL/0281 (7).jpg      1\n",
              "6014  </content/KAGGLE_unziped>/test/REAL/0557 (3).jpg      1\n",
              "4614   </content/KAGGLE_unziped>/test/FAKE/401 (7).jpg      0"
            ],
            "text/html": [
              "\n",
              "  <div id=\"df-69d00aa3-88ff-48cf-aade-5c0b45652923\">\n",
              "    <div class=\"colab-df-container\">\n",
              "      <div>\n",
              "<style scoped>\n",
              "    .dataframe tbody tr th:only-of-type {\n",
              "        vertical-align: middle;\n",
              "    }\n",
              "\n",
              "    .dataframe tbody tr th {\n",
              "        vertical-align: top;\n",
              "    }\n",
              "\n",
              "    .dataframe thead th {\n",
              "        text-align: right;\n",
              "    }\n",
              "</style>\n",
              "<table border=\"1\" class=\"dataframe\">\n",
              "  <thead>\n",
              "    <tr style=\"text-align: right;\">\n",
              "      <th></th>\n",
              "      <th>path</th>\n",
              "      <th>label</th>\n",
              "    </tr>\n",
              "  </thead>\n",
              "  <tbody>\n",
              "    <tr>\n",
              "      <th>9054</th>\n",
              "      <td>&lt;/content/KAGGLE_unziped&gt;/test/FAKE/894 (10).jpg</td>\n",
              "      <td>0</td>\n",
              "    </tr>\n",
              "    <tr>\n",
              "      <th>2299</th>\n",
              "      <td>&lt;/content/KAGGLE_unziped&gt;/test/FAKE/144 (5).jpg</td>\n",
              "      <td>0</td>\n",
              "    </tr>\n",
              "    <tr>\n",
              "      <th>3534</th>\n",
              "      <td>&lt;/content/KAGGLE_unziped&gt;/test/REAL/0281 (7).jpg</td>\n",
              "      <td>1</td>\n",
              "    </tr>\n",
              "    <tr>\n",
              "      <th>6014</th>\n",
              "      <td>&lt;/content/KAGGLE_unziped&gt;/test/REAL/0557 (3).jpg</td>\n",
              "      <td>1</td>\n",
              "    </tr>\n",
              "    <tr>\n",
              "      <th>4614</th>\n",
              "      <td>&lt;/content/KAGGLE_unziped&gt;/test/FAKE/401 (7).jpg</td>\n",
              "      <td>0</td>\n",
              "    </tr>\n",
              "  </tbody>\n",
              "</table>\n",
              "</div>\n",
              "      <button class=\"colab-df-convert\" onclick=\"convertToInteractive('df-69d00aa3-88ff-48cf-aade-5c0b45652923')\"\n",
              "              title=\"Convert this dataframe to an interactive table.\"\n",
              "              style=\"display:none;\">\n",
              "        \n",
              "  <svg xmlns=\"http://www.w3.org/2000/svg\" height=\"24px\"viewBox=\"0 0 24 24\"\n",
              "       width=\"24px\">\n",
              "    <path d=\"M0 0h24v24H0V0z\" fill=\"none\"/>\n",
              "    <path d=\"M18.56 5.44l.94 2.06.94-2.06 2.06-.94-2.06-.94-.94-2.06-.94 2.06-2.06.94zm-11 1L8.5 8.5l.94-2.06 2.06-.94-2.06-.94L8.5 2.5l-.94 2.06-2.06.94zm10 10l.94 2.06.94-2.06 2.06-.94-2.06-.94-.94-2.06-.94 2.06-2.06.94z\"/><path d=\"M17.41 7.96l-1.37-1.37c-.4-.4-.92-.59-1.43-.59-.52 0-1.04.2-1.43.59L10.3 9.45l-7.72 7.72c-.78.78-.78 2.05 0 2.83L4 21.41c.39.39.9.59 1.41.59.51 0 1.02-.2 1.41-.59l7.78-7.78 2.81-2.81c.8-.78.8-2.07 0-2.86zM5.41 20L4 18.59l7.72-7.72 1.47 1.35L5.41 20z\"/>\n",
              "  </svg>\n",
              "      </button>\n",
              "      \n",
              "  <style>\n",
              "    .colab-df-container {\n",
              "      display:flex;\n",
              "      flex-wrap:wrap;\n",
              "      gap: 12px;\n",
              "    }\n",
              "\n",
              "    .colab-df-convert {\n",
              "      background-color: #E8F0FE;\n",
              "      border: none;\n",
              "      border-radius: 50%;\n",
              "      cursor: pointer;\n",
              "      display: none;\n",
              "      fill: #1967D2;\n",
              "      height: 32px;\n",
              "      padding: 0 0 0 0;\n",
              "      width: 32px;\n",
              "    }\n",
              "\n",
              "    .colab-df-convert:hover {\n",
              "      background-color: #E2EBFA;\n",
              "      box-shadow: 0px 1px 2px rgba(60, 64, 67, 0.3), 0px 1px 3px 1px rgba(60, 64, 67, 0.15);\n",
              "      fill: #174EA6;\n",
              "    }\n",
              "\n",
              "    [theme=dark] .colab-df-convert {\n",
              "      background-color: #3B4455;\n",
              "      fill: #D2E3FC;\n",
              "    }\n",
              "\n",
              "    [theme=dark] .colab-df-convert:hover {\n",
              "      background-color: #434B5C;\n",
              "      box-shadow: 0px 1px 3px 1px rgba(0, 0, 0, 0.15);\n",
              "      filter: drop-shadow(0px 1px 2px rgba(0, 0, 0, 0.3));\n",
              "      fill: #FFFFFF;\n",
              "    }\n",
              "  </style>\n",
              "\n",
              "      <script>\n",
              "        const buttonEl =\n",
              "          document.querySelector('#df-69d00aa3-88ff-48cf-aade-5c0b45652923 button.colab-df-convert');\n",
              "        buttonEl.style.display =\n",
              "          google.colab.kernel.accessAllowed ? 'block' : 'none';\n",
              "\n",
              "        async function convertToInteractive(key) {\n",
              "          const element = document.querySelector('#df-69d00aa3-88ff-48cf-aade-5c0b45652923');\n",
              "          const dataTable =\n",
              "            await google.colab.kernel.invokeFunction('convertToInteractive',\n",
              "                                                     [key], {});\n",
              "          if (!dataTable) return;\n",
              "\n",
              "          const docLinkHtml = 'Like what you see? Visit the ' +\n",
              "            '<a target=\"_blank\" href=https://colab.research.google.com/notebooks/data_table.ipynb>data table notebook</a>'\n",
              "            + ' to learn more about interactive tables.';\n",
              "          element.innerHTML = '';\n",
              "          dataTable['output_type'] = 'display_data';\n",
              "          await google.colab.output.renderOutput(dataTable, element);\n",
              "          const docLink = document.createElement('div');\n",
              "          docLink.innerHTML = docLinkHtml;\n",
              "          element.appendChild(docLink);\n",
              "        }\n",
              "      </script>\n",
              "    </div>\n",
              "  </div>\n",
              "  "
            ]
          },
          "metadata": {},
          "execution_count": 116
        }
      ]
    },
    {
      "cell_type": "markdown",
      "source": [
        "This code concatenates the DataFrames df_test_fake and df_test_real along the row axis to create a new DataFrame df_test, prints its shape, and displays a random sample of 5 rows from the DataFrame."
      ],
      "metadata": {
        "id": "e-cyN9N0BEXC"
      }
    },
    {
      "cell_type": "code",
      "source": [
        "image_ds = []\n",
        "image_paths = df_test['path']\n",
        "\n",
        "for image in image_paths:\n",
        "    imge = cv2.imread(image)\n",
        "    \n",
        "    if imge is None:\n",
        "        print(f\"Failed to read image: {image}\")\n",
        "        continue\n",
        "    \n",
        "    if imge.size == 0:\n",
        "        print(f\"Empty image: {image}\")\n",
        "        continue\n",
        "    \n",
        "    resize = cv2.resize(imge, (32, 32))\n",
        "    image_ds.append(resize)\n",
        "\n",
        "image_array = np.array(image_ds)"
      ],
      "metadata": {
        "id": "5uSPS9Y5ASyK"
      },
      "execution_count": 117,
      "outputs": []
    },
    {
      "cell_type": "markdown",
      "source": [
        "This code reads and resizes images from the file paths in the DataFrame df_test, checks for any failed or empty images, skips them, and stores the resized images in a list image_ds. Finally, it converts the list to a NumPy array image_array."
      ],
      "metadata": {
        "id": "7cJdbwtlBZmr"
      }
    },
    {
      "cell_type": "code",
      "source": [
        "image_ds = []\n",
        "image_paths = df_test['path']\n",
        "\n",
        "blank_image = np.zeros((32, 32, 3), dtype=np.uint8)  # Create a blank image of shape (32, 32, 3)\n",
        "\n",
        "for image in image_paths:\n",
        "    try:\n",
        "        imge = cv2.imread(image)\n",
        "        resize = cv2.resize(imge, (32, 32))\n",
        "        image_ds.append(resize)\n",
        "    except Exception as e:\n",
        "        print(f\"Error processing image: {image} - {str(e)}\")\n",
        "        image_ds.append(blank_image)  # Append the blank image instead\n",
        "        continue\n",
        "\n",
        "image_array = np.array(image_ds)"
      ],
      "metadata": {
        "id": "h8kpDvYdCJaZ"
      },
      "execution_count": 118,
      "outputs": []
    },
    {
      "cell_type": "markdown",
      "source": [
        "This code reads and resizes images from the file paths in the DataFrame df_test, and if there is an error during image processing, it prints an error message, appends a blank image of shape (32, 32, 3) to the image_ds list, and continues to the next image. Finally, it converts the image_ds list to a NumPy array image_array."
      ],
      "metadata": {
        "id": "arA1FuDpBiCC"
      }
    },
    {
      "cell_type": "code",
      "source": [
        "X_test = image_array/255\n",
        "X_test.ndim"
      ],
      "metadata": {
        "colab": {
          "base_uri": "https://localhost:8080/"
        },
        "id": "hBSpOnJvDp-l",
        "outputId": "cde7a90a-e350-46a7-b0c0-e88a9a013d1d"
      },
      "execution_count": 119,
      "outputs": [
        {
          "output_type": "execute_result",
          "data": {
            "text/plain": [
              "4"
            ]
          },
          "metadata": {},
          "execution_count": 119
        }
      ]
    },
    {
      "cell_type": "markdown",
      "source": [
        "\n",
        "This code normalizes the pixel values in the image_array by dividing them by 255 to scale them between 0 and 1, and then determines the number of dimensions of the resulting array X_test."
      ],
      "metadata": {
        "id": "NN6XATfIBo8i"
      }
    },
    {
      "cell_type": "code",
      "source": [
        "y_test = df_test['label']\n",
        "y_test.head()"
      ],
      "metadata": {
        "colab": {
          "base_uri": "https://localhost:8080/"
        },
        "id": "gdTSgjYLDv_b",
        "outputId": "bb1dca10-d26c-4298-fa71-f6b3b5f923c1"
      },
      "execution_count": 120,
      "outputs": [
        {
          "output_type": "execute_result",
          "data": {
            "text/plain": [
              "0    0\n",
              "1    0\n",
              "2    0\n",
              "3    0\n",
              "4    0\n",
              "Name: label, dtype: int64"
            ]
          },
          "metadata": {},
          "execution_count": 120
        }
      ]
    },
    {
      "cell_type": "markdown",
      "source": [
        "This code assigns the 'label' column from the DataFrame df_test to the variable y_test and displays the first few values of y_test."
      ],
      "metadata": {
        "id": "c-a1ypdPBvk5"
      }
    },
    {
      "cell_type": "code",
      "source": [
        "from tensorflow.keras import models , layers\n",
        "\n",
        "model = models.Sequential([\n",
        "    layers.Conv2D(filters = 80 , kernel_size = (3,3),activation = 'relu',input_shape= (32,32,3)),\n",
        "    layers.MaxPool2D((2,2)),\n",
        "    layers.Conv2D(filters = 40 , kernel_size = (3,3),activation = 'relu'),\n",
        "    layers.MaxPool2D((2,2)),\n",
        "    layers.Conv2D(filters = 20 , kernel_size = (3,3),activation = 'relu'),\n",
        "    layers.MaxPool2D((2,2)),\n",
        "    \n",
        "    layers.Flatten(),\n",
        "    layers.Dense(10,activation = 'relu'),\n",
        "    layers.Dense(2,activation = 'sigmoid'),\n",
        "                         ])\n",
        "\n",
        "model.compile(\n",
        "    optimizer = 'adam',\n",
        "    loss= 'sparse_categorical_crossentropy',\n",
        "    metrics = ['accuracy']\n",
        "             )\n",
        "\n",
        "model.fit(X_train,y_train, epochs = 5)"
      ],
      "metadata": {
        "colab": {
          "base_uri": "https://localhost:8080/"
        },
        "id": "kSUjUDb-D1fK",
        "outputId": "0729d685-2c5a-4789-cd5d-6c0a50e331e7"
      },
      "execution_count": 121,
      "outputs": [
        {
          "output_type": "stream",
          "name": "stdout",
          "text": [
            "Epoch 1/5\n",
            "3125/3125 [==============================] - 235s 75ms/step - loss: 0.3795 - accuracy: 0.8282\n",
            "Epoch 2/5\n",
            "3125/3125 [==============================] - 231s 74ms/step - loss: 0.2558 - accuracy: 0.8952\n",
            "Epoch 3/5\n",
            "3125/3125 [==============================] - 235s 75ms/step - loss: 0.2191 - accuracy: 0.9123\n",
            "Epoch 4/5\n",
            "3125/3125 [==============================] - 233s 74ms/step - loss: 0.2004 - accuracy: 0.9196\n",
            "Epoch 5/5\n",
            "3125/3125 [==============================] - 233s 74ms/step - loss: 0.1872 - accuracy: 0.9253\n"
          ]
        },
        {
          "output_type": "execute_result",
          "data": {
            "text/plain": [
              "<keras.callbacks.History at 0x7f9748bcee30>"
            ]
          },
          "metadata": {},
          "execution_count": 121
        }
      ]
    },
    {
      "cell_type": "markdown",
      "source": [
        "This code defines a sequential model using the Keras API from TensorFlow. The model consists of several layers including convolutional layers, max pooling layers, a flatten layer, and dense layers. It uses the 'adam' optimizer, 'sparse_categorical_crossentropy' loss function, and 'accuracy' metric for compilation. The model is then trained on the training data X_train and y_train for 5 epochs using the fit function."
      ],
      "metadata": {
        "id": "UqUw6qjlB51y"
      }
    },
    {
      "cell_type": "code",
      "source": [
        "model.evaluate(X_test,y_test)"
      ],
      "metadata": {
        "colab": {
          "base_uri": "https://localhost:8080/"
        },
        "id": "w455F3UZJtt5",
        "outputId": "53abaf73-fb54-4170-b6fe-ebb44c0fa00e"
      },
      "execution_count": 122,
      "outputs": [
        {
          "output_type": "stream",
          "name": "stdout",
          "text": [
            "625/625 [==============================] - 11s 16ms/step - loss: 0.2029 - accuracy: 0.9175\n"
          ]
        },
        {
          "output_type": "execute_result",
          "data": {
            "text/plain": [
              "[0.20294874906539917, 0.9175000190734863]"
            ]
          },
          "metadata": {},
          "execution_count": 122
        }
      ]
    },
    {
      "cell_type": "markdown",
      "source": [
        "This code evaluates the trained model on the test data X_test and y_test using the evaluate function. It calculates the loss value and the accuracy of the model on the test data."
      ],
      "metadata": {
        "id": "Mvi43By6CC3H"
      }
    },
    {
      "cell_type": "code",
      "source": [
        "y_pred  = model.predict(X_test)"
      ],
      "metadata": {
        "colab": {
          "base_uri": "https://localhost:8080/"
        },
        "id": "zw8bw1OBOu66",
        "outputId": "8ff79905-baa2-4dfe-c90c-79d8b388dbcc"
      },
      "execution_count": 123,
      "outputs": [
        {
          "output_type": "stream",
          "name": "stdout",
          "text": [
            "625/625 [==============================] - 13s 20ms/step\n"
          ]
        }
      ]
    },
    {
      "cell_type": "markdown",
      "source": [
        "This code predicts the output labels for the test data X_test using the trained model model and assigns the predicted labels to the variable y_pred."
      ],
      "metadata": {
        "id": "ABzypimmCL4d"
      }
    },
    {
      "cell_type": "code",
      "source": [
        "y_pred_label = [np.argmax(i) for i in y_pred]\n",
        "y_pred_label[:5]"
      ],
      "metadata": {
        "colab": {
          "base_uri": "https://localhost:8080/"
        },
        "id": "C4mfxJZ5OyTN",
        "outputId": "2d5f5042-bc23-4ca7-a9ea-90cd06c1cf14"
      },
      "execution_count": 124,
      "outputs": [
        {
          "output_type": "execute_result",
          "data": {
            "text/plain": [
              "[0, 0, 0, 0, 0]"
            ]
          },
          "metadata": {},
          "execution_count": 124
        }
      ]
    },
    {
      "cell_type": "markdown",
      "source": [
        "This code converts the predicted probabilities y_pred into predicted labels by selecting the index of the highest probability using np.argmax() function, and assigns the predicted labels to the variable y_pred_label. It then displays the first 5 predicted labels."
      ],
      "metadata": {
        "id": "eDuUMM4LCSH4"
      }
    },
    {
      "cell_type": "code",
      "source": [
        "from sklearn.metrics import classification_report\n",
        "\n",
        "print('Classification Report     : \\n\\n\\n' , classification_report(y_test,y_pred_label))"
      ],
      "metadata": {
        "colab": {
          "base_uri": "https://localhost:8080/"
        },
        "id": "bY04N-wEO2zc",
        "outputId": "bd7229c6-70af-475c-898d-a50a99943757"
      },
      "execution_count": 125,
      "outputs": [
        {
          "output_type": "stream",
          "name": "stdout",
          "text": [
            "Classification Report     : \n",
            "\n",
            "\n",
            "               precision    recall  f1-score   support\n",
            "\n",
            "           0       0.95      0.88      0.91     10000\n",
            "           1       0.89      0.95      0.92     10000\n",
            "\n",
            "    accuracy                           0.92     20000\n",
            "   macro avg       0.92      0.92      0.92     20000\n",
            "weighted avg       0.92      0.92      0.92     20000\n",
            "\n"
          ]
        }
      ]
    },
    {
      "cell_type": "markdown",
      "source": [
        "This code imports the classification_report function from the sklearn.metrics module and then generates a classification report by comparing the true labels y_test with the predicted labels y_pred_label. The classification report provides precision, recall, F1-score, and support for each class in the classification problem."
      ],
      "metadata": {
        "id": "U_5Rz6EwCfmG"
      }
    },
    {
      "cell_type": "code",
      "source": [
        "from sklearn.metrics import confusion_matrix\n",
        "\n",
        "cm = confusion_matrix(y_test , y_pred_label)"
      ],
      "metadata": {
        "id": "v0ERQL_SO89d"
      },
      "execution_count": 126,
      "outputs": []
    },
    {
      "cell_type": "markdown",
      "source": [
        "This code imports the confusion_matrix function from the sklearn.metrics module and then calculates the confusion matrix by comparing the true labels y_test with the predicted labels y_pred_label. The confusion matrix provides a tabular representation of the performance of a classification model, showing the counts of true positive, true negative, false positive, and false negative predictions for each class. The resulting confusion matrix is assigned to the variable cm."
      ],
      "metadata": {
        "id": "i4jLhCkCCtol"
      }
    },
    {
      "cell_type": "code",
      "source": [
        "import matplotlib.pyplot as plt\n",
        "import seaborn as sn\n",
        "\n",
        "\n",
        "plt.figure(figsize=(4,4), facecolor= 'pink', edgecolor='brown')\n",
        "sn.heatmap(cm , annot= True, fmt=\"d\")\n",
        "plt.xlabel('Prediction', fontdict= {'family':'fantasy','color':'black','size':15})\n",
        "plt.ylabel('Truth', fontdict= {'family':'fantasy','color':'black','size':15})\n",
        "plt.title('Confusion Matrix',fontdict= {'family':'fantasy','color':'red','size':20})\n",
        "plt.show()"
      ],
      "metadata": {
        "colab": {
          "base_uri": "https://localhost:8080/",
          "height": 417
        },
        "id": "d76Q49DQPEL3",
        "outputId": "b4aaa8d1-e742-4f05-f532-3cbf393029f5"
      },
      "execution_count": 127,
      "outputs": [
        {
          "output_type": "display_data",
          "data": {
            "text/plain": [
              "<Figure size 400x400 with 2 Axes>"
            ],
            "image/png": "[encoded data removed]"
          },
          "metadata": {}
        }
      ]
    },
    {
      "cell_type": "markdown",
      "source": [
        "This code imports the pyplot module from matplotlib library as plt and the heatmap function from the seaborn library as sn. It creates a figure with a specified size and background color. It then plots a heatmap of the confusion matrix cm using sn.heatmap with annotations enabled (annot=True) and the number format as integer (fmt=\"d\"). It sets labels for the x-axis and y-axis, and adds a title to the plot. Finally, it displays the plot using plt.show(). The resulting plot is a visual representation of the confusion matrix."
      ],
      "metadata": {
        "id": "cDX4cdvNC49a"
      }
    }
  ]
}